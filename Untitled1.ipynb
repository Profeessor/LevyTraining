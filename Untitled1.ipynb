{
 "cells": [
  {
   "cell_type": "code",
   "execution_count": 8,
   "id": "94d8435b-19bd-42b2-a12f-3867c5e14c28",
   "metadata": {},
   "outputs": [
    {
     "name": "stderr",
     "output_type": "stream",
     "text": [
      "INFO:root:Performing 2 pilot runs with the EZ_retest model...\n",
      "INFO:root:Shape of parameter batch after 2 pilot simulations: (batch_size = 2, 5)\n",
      "INFO:root:Shape of simulation batch after 2 pilot simulations: (batch_size = 2, 238, 2)\n",
      "INFO:root:No optional prior non-batchable context provided.\n",
      "INFO:root:No optional prior batchable context provided.\n",
      "INFO:root:Shape of simulation non-batchable context: (2,)\n",
      "INFO:root:No optional simulation batchable context provided.\n",
      "/tmp/ipykernel_186774/3069575293.py:71: DeprecationWarning: InvariantNetwork will be deprecated. at some point. Use ``DeepSet`` instead.\n",
      "  summary_net = bf.networks.InvariantNetwork(summary_dim=64,num_equiv=3)\n",
      "INFO:root:Loaded loss history from ./checkpoints/retest_v2_EZ_config/history_200.pkl.\n",
      "INFO:root:Loaded simulation memory from ./checkpoints/retest_v2_EZ_config/memory.pkl\n",
      "INFO:root:Networks loaded from ./checkpoints/retest_v2_EZ_config/ckpt-200\n",
      "INFO:root:Performing a consistency check with provided components...\n",
      "INFO:root:Done.\n"
     ]
    }
   ],
   "source": [
    "import numpy as np\n",
    "from numba import njit\n",
    "import bayesflow as bf\n",
    "import numpy as np\n",
    "import matplotlib.pyplot as plt\n",
    "from scipy import stats\n",
    "import seaborn as sns\n",
    "from simulator import EZ_retest as sim_v2\n",
    "\n",
    "import random \n",
    "random.seed(7890)\n",
    "\n",
    "def draw_prior():\n",
    "    \"\"\"Generates random draws from the prior.\"\"\"\n",
    "    v1 =np.random.uniform(low=0.0,high=5.0)\n",
    "    v2 =np.random.uniform(low=-5.0,high=0.0)\n",
    "\n",
    "    a  =np.random.uniform(low=0.6,high=3.0)\n",
    "    ndt =np.random.uniform(low=0.1,high=0.7)\n",
    "    alpha =np.random.uniform(low=1.0,high=2.0)\n",
    "\n",
    "    return np.array([v1,v2,a, ndt,alpha])\n",
    "\n",
    "def prior_N(n_min=50, n_max=500):\n",
    "    \"\"\"A prior fo]r the number of observation (will be called internally at each backprop step).\"\"\"\n",
    "    return  np.random.randint(n_min, n_max+1, 2)\n",
    "\n",
    "prior = bf.simulation.Prior(prior_fun=draw_prior,param_names=[r'$v1$',r'$v2$', r'$a$', r'$ndt$',r'$alpha$'])\n",
    "var_num_obs = bf.simulation.ContextGenerator(non_batchable_context_fun=prior_N)\n",
    "simulator = bf.simulation.Simulator(simulator_fun=sim_v2.simulate_diffusion_2_conds, context_generator=var_num_obs)\n",
    "generative_model = bf.simulation.GenerativeModel(prior,simulator,name='EZ_retest')\n",
    "\n",
    "prior_means, prior_stds = prior.estimate_means_and_stds()\n",
    "\n",
    "\n",
    "def configurator(sim_dict):\n",
    "    \"\"\"Configures the outputs of a generative model for interaction with \n",
    "    BayesFlow modules.\"\"\"\n",
    "    \n",
    "    out = dict()\n",
    "    # These will be passed through the summary network. In this case,\n",
    "    # it's just the data, but it can be other stuff as well.\n",
    "    data = sim_dict['sim_data'].astype(np.float32)\n",
    "    \n",
    "    # Extract prior draws and z-standardize with previously computed means\n",
    "    params = ((sim_dict['prior_draws'].astype(np.float32)) - prior_means) / prior_stds\n",
    "    #params = (params - prior_means) / prior_stds\n",
    "    \n",
    "    \n",
    "    # Remove a batch if it contains nan, inf or -inf\n",
    "    idx_keep = np.all(np.isfinite(data), axis=(1, 2))\n",
    "    if not np.all(idx_keep):\n",
    "        print('Invalid value encountered...removing from batch')\n",
    "        \n",
    "    out['summary_conditions'] = data[idx_keep]\n",
    "    out['parameters'] = params[idx_keep]\n",
    "\n",
    "    \n",
    "    \n",
    "    \n",
    "    \n",
    "    # These will be concatenated to the outputs of the summary network\n",
    "    # Convert N to log N since neural nets cant deal well with large numbers\n",
    "    N = np.log(sim_dict['sim_non_batchable_context'])\n",
    "    # Repeat N for each sim (since shared across batch), notice the\n",
    "    # extra dimension needed\n",
    "    N_vec = N * np.ones((data.shape[0], 1), dtype=np.float32)\n",
    "    out['direct_conditions'] = N_vec\n",
    "    return out\n",
    "\n",
    "summary_net = bf.networks.InvariantNetwork(summary_dim=64,num_equiv=3)\n",
    "inference_net = bf.networks.InvertibleNetwork(num_params=len(prior.param_names),num_coupling_layers=6)\n",
    "amortizer = bf.amortizers.AmortizedPosterior(inference_net, summary_net, name='v2_equive')\n",
    "\n",
    "trainer = bf.trainers.Trainer(\n",
    "    amortizer=amortizer, \n",
    "    generative_model=generative_model, \n",
    "    configurator=configurator,\n",
    "    checkpoint_path='./checkpoints/retest_v2_EZ_config')\n"
   ]
  },
  {
   "cell_type": "code",
   "execution_count": 11,
   "id": "d7eb90b1-609c-4293-97c8-b8d45f2d50c3",
   "metadata": {},
   "outputs": [
    {
     "name": "stderr",
     "output_type": "stream",
     "text": [
      "INFO:root:Performing 2 pilot runs with the EZ_retest model...\n",
      "INFO:root:Shape of parameter batch after 2 pilot simulations: (batch_size = 2, 5)\n",
      "INFO:root:Shape of simulation batch after 2 pilot simulations: (batch_size = 2, 1000, 2)\n",
      "INFO:root:No optional prior non-batchable context provided.\n",
      "INFO:root:No optional prior batchable context provided.\n",
      "INFO:root:Shape of simulation non-batchable context: (2,)\n",
      "INFO:root:No optional simulation batchable context provided.\n"
     ]
    },
    {
     "ename": "InvalidArgumentError",
     "evalue": "Graph execution error:\n\nMatrix size-incompatible: In[0]: [5000000,68], In[1]: [66,128]\n\t [[{{node affine_coupling_layer_17/StatefulPartitionedCall/StatefulPartitionedCall/dense_coupling_net_71/sequential_107/dense_282/Tensordot/MatMul}}]] [Op:__inference_inverse_24969]",
     "output_type": "error",
     "traceback": [
      "\u001b[0;31m---------------------------------------------------------------------------\u001b[0m",
      "\u001b[0;31mInvalidArgumentError\u001b[0m                      Traceback (most recent call last)",
      "Cell \u001b[0;32mIn[11], line 21\u001b[0m\n\u001b[1;32m     18\u001b[0m new_sims \u001b[38;5;241m=\u001b[39m configurator(generative_model(num_test))\n\u001b[1;32m     20\u001b[0m param_names\u001b[38;5;241m=\u001b[39m[\u001b[38;5;124mr\u001b[39m\u001b[38;5;124m'\u001b[39m\u001b[38;5;124m$v1$\u001b[39m\u001b[38;5;124m'\u001b[39m,\u001b[38;5;124mr\u001b[39m\u001b[38;5;124m'\u001b[39m\u001b[38;5;124m$v2$\u001b[39m\u001b[38;5;124m'\u001b[39m, \u001b[38;5;124mr\u001b[39m\u001b[38;5;124m'\u001b[39m\u001b[38;5;124m$a$\u001b[39m\u001b[38;5;124m'\u001b[39m, \u001b[38;5;124mr\u001b[39m\u001b[38;5;124m'\u001b[39m\u001b[38;5;124m$ndt$\u001b[39m\u001b[38;5;124m'\u001b[39m,\u001b[38;5;124mr\u001b[39m\u001b[38;5;124m'\u001b[39m\u001b[38;5;124m$alpha$\u001b[39m\u001b[38;5;124m'\u001b[39m]\n\u001b[0;32m---> 21\u001b[0m posterior_draws \u001b[38;5;241m=\u001b[39m \u001b[43mamortizer\u001b[49m\u001b[38;5;241;43m.\u001b[39;49m\u001b[43msample\u001b[49m\u001b[43m(\u001b[49m\u001b[43mnew_sims\u001b[49m\u001b[43m,\u001b[49m\u001b[43m \u001b[49m\u001b[43mn_samples\u001b[49m\u001b[38;5;241;43m=\u001b[39;49m\u001b[43mnum_posterior_draws_recovery\u001b[49m\u001b[43m)\u001b[49m\n\u001b[1;32m     22\u001b[0m fig \u001b[38;5;241m=\u001b[39m bf\u001b[38;5;241m.\u001b[39mdiagnostics\u001b[38;5;241m.\u001b[39mplot_recovery(posterior_draws, new_sims[\u001b[38;5;124m'\u001b[39m\u001b[38;5;124mparameters\u001b[39m\u001b[38;5;124m'\u001b[39m],param_names\u001b[38;5;241m=\u001b[39mparam_names)\n\u001b[1;32m     23\u001b[0m plt\u001b[38;5;241m.\u001b[39msavefig(\u001b[38;5;124m'\u001b[39m\u001b[38;5;124m./figures_EZ/recovery.png\u001b[39m\u001b[38;5;124m'\u001b[39m)\n",
      "File \u001b[0;32m~/New_with_condition/bayesflow/amortizers.py:291\u001b[0m, in \u001b[0;36mAmortizedPosterior.sample\u001b[0;34m(self, input_dict, n_samples, to_numpy, **kwargs)\u001b[0m\n\u001b[1;32m    288\u001b[0m     z_samples \u001b[38;5;241m=\u001b[39m \u001b[38;5;28mself\u001b[39m\u001b[38;5;241m.\u001b[39mlatent_dist\u001b[38;5;241m.\u001b[39msample((n_data_sets, n_samples))\n\u001b[1;32m    290\u001b[0m \u001b[38;5;66;03m# Obtain random draws from the approximate posterior given conditioning variables\u001b[39;00m\n\u001b[0;32m--> 291\u001b[0m post_samples \u001b[38;5;241m=\u001b[39m \u001b[38;5;28;43mself\u001b[39;49m\u001b[38;5;241;43m.\u001b[39;49m\u001b[43minference_net\u001b[49m\u001b[38;5;241;43m.\u001b[39;49m\u001b[43minverse\u001b[49m\u001b[43m(\u001b[49m\u001b[43mz_samples\u001b[49m\u001b[43m,\u001b[49m\u001b[43m \u001b[49m\u001b[43mconditions\u001b[49m\u001b[43m,\u001b[49m\u001b[43m \u001b[49m\u001b[43mtraining\u001b[49m\u001b[38;5;241;43m=\u001b[39;49m\u001b[38;5;28;43;01mFalse\u001b[39;49;00m\u001b[43m,\u001b[49m\u001b[43m \u001b[49m\u001b[38;5;241;43m*\u001b[39;49m\u001b[38;5;241;43m*\u001b[39;49m\u001b[43mkwargs\u001b[49m\u001b[43m)\u001b[49m\n\u001b[1;32m    293\u001b[0m \u001b[38;5;66;03m# Only return 2D array, if first dimensions is 1\u001b[39;00m\n\u001b[1;32m    294\u001b[0m \u001b[38;5;28;01mif\u001b[39;00m post_samples\u001b[38;5;241m.\u001b[39mshape[\u001b[38;5;241m0\u001b[39m] \u001b[38;5;241m==\u001b[39m \u001b[38;5;241m1\u001b[39m:\n",
      "File \u001b[0;32m~/.conda/envs/m_base/lib/python3.10/site-packages/tensorflow/python/util/traceback_utils.py:153\u001b[0m, in \u001b[0;36mfilter_traceback.<locals>.error_handler\u001b[0;34m(*args, **kwargs)\u001b[0m\n\u001b[1;32m    151\u001b[0m \u001b[38;5;28;01mexcept\u001b[39;00m \u001b[38;5;167;01mException\u001b[39;00m \u001b[38;5;28;01mas\u001b[39;00m e:\n\u001b[1;32m    152\u001b[0m   filtered_tb \u001b[38;5;241m=\u001b[39m _process_traceback_frames(e\u001b[38;5;241m.\u001b[39m__traceback__)\n\u001b[0;32m--> 153\u001b[0m   \u001b[38;5;28;01mraise\u001b[39;00m e\u001b[38;5;241m.\u001b[39mwith_traceback(filtered_tb) \u001b[38;5;28;01mfrom\u001b[39;00m \u001b[38;5;28;01mNone\u001b[39;00m\n\u001b[1;32m    154\u001b[0m \u001b[38;5;28;01mfinally\u001b[39;00m:\n\u001b[1;32m    155\u001b[0m   \u001b[38;5;28;01mdel\u001b[39;00m filtered_tb\n",
      "File \u001b[0;32m~/.conda/envs/m_base/lib/python3.10/site-packages/tensorflow/python/eager/execute.py:53\u001b[0m, in \u001b[0;36mquick_execute\u001b[0;34m(op_name, num_outputs, inputs, attrs, ctx, name)\u001b[0m\n\u001b[1;32m     51\u001b[0m \u001b[38;5;28;01mtry\u001b[39;00m:\n\u001b[1;32m     52\u001b[0m   ctx\u001b[38;5;241m.\u001b[39mensure_initialized()\n\u001b[0;32m---> 53\u001b[0m   tensors \u001b[38;5;241m=\u001b[39m pywrap_tfe\u001b[38;5;241m.\u001b[39mTFE_Py_Execute(ctx\u001b[38;5;241m.\u001b[39m_handle, device_name, op_name,\n\u001b[1;32m     54\u001b[0m                                       inputs, attrs, num_outputs)\n\u001b[1;32m     55\u001b[0m \u001b[38;5;28;01mexcept\u001b[39;00m core\u001b[38;5;241m.\u001b[39m_NotOkStatusException \u001b[38;5;28;01mas\u001b[39;00m e:\n\u001b[1;32m     56\u001b[0m   \u001b[38;5;28;01mif\u001b[39;00m name \u001b[38;5;129;01mis\u001b[39;00m \u001b[38;5;129;01mnot\u001b[39;00m \u001b[38;5;28;01mNone\u001b[39;00m:\n",
      "\u001b[0;31mInvalidArgumentError\u001b[0m: Graph execution error:\n\nMatrix size-incompatible: In[0]: [5000000,68], In[1]: [66,128]\n\t [[{{node affine_coupling_layer_17/StatefulPartitionedCall/StatefulPartitionedCall/dense_coupling_net_71/sequential_107/dense_282/Tensordot/MatMul}}]] [Op:__inference_inverse_24969]"
     ]
    }
   ],
   "source": [
    "def prior_N(n_min=500, n_max=500):\n",
    "    \"\"\"A prior fo]r the number of observation (will be called internally at each backprop step).\"\"\"\n",
    "    return  np.random.randint(n_min, n_max+1, 2)\n",
    "\n",
    "prior = bf.simulation.Prior(prior_fun=draw_prior,param_names=[r'$v1$',r'$v2$', r'$a$', r'$ndt$',r'$alpha$'])\n",
    "var_num_obs = bf.simulation.ContextGenerator(non_batchable_context_fun=prior_N)\n",
    "simulator = bf.simulation.Simulator(simulator_fun=sim_v2.simulate_diffusion_2_conds, context_generator=var_num_obs)\n",
    "generative_model = bf.simulation.GenerativeModel(prior,simulator,name='EZ_retest')\n",
    "\n",
    "prior_means, prior_stds = prior.estimate_means_and_stds()\n",
    "\n",
    "\n",
    "\n",
    "\n",
    "\n",
    "num_test = 1000\n",
    "num_posterior_draws_recovery = 5000\n",
    "new_sims = configurator(generative_model(num_test))\n",
    "\n",
    "param_names=[r'$v1$',r'$v2$', r'$a$', r'$ndt$',r'$alpha$']\n",
    "posterior_draws = amortizer.sample(new_sims, n_samples=num_posterior_draws_recovery)\n",
    "fig = bf.diagnostics.plot_recovery(posterior_draws, new_sims['parameters'],param_names=param_names)\n",
    "plt.savefig('./figures_EZ/recovery.png')\n"
   ]
  },
  {
   "cell_type": "code",
   "execution_count": null,
   "id": "08fd1a0f-1578-466a-bb38-7604b136fbdc",
   "metadata": {},
   "outputs": [],
   "source": [
    "new_sims"
   ]
  },
  {
   "cell_type": "code",
   "execution_count": 10,
   "id": "1690b1e4-dc37-452d-9eb0-b23e028f4849",
   "metadata": {},
   "outputs": [
    {
     "ename": "NameError",
     "evalue": "name 'posterior_draws' is not defined",
     "output_type": "error",
     "traceback": [
      "\u001b[0;31m---------------------------------------------------------------------------\u001b[0m",
      "\u001b[0;31mNameError\u001b[0m                                 Traceback (most recent call last)",
      "Cell \u001b[0;32mIn[10], line 1\u001b[0m\n\u001b[0;32m----> 1\u001b[0m f \u001b[38;5;241m=\u001b[39m bf\u001b[38;5;241m.\u001b[39mdiagnostics\u001b[38;5;241m.\u001b[39mplot_sbc_ecdf(\u001b[43mposterior_draws\u001b[49m, new_sims[\u001b[38;5;124m'\u001b[39m\u001b[38;5;124mparameters\u001b[39m\u001b[38;5;124m'\u001b[39m],param_names\u001b[38;5;241m=\u001b[39mparam_names)\n\u001b[1;32m      2\u001b[0m plt\u001b[38;5;241m.\u001b[39msavefig(\u001b[38;5;124m'\u001b[39m\u001b[38;5;124m./figures_EZ/ecdf.png\u001b[39m\u001b[38;5;124m'\u001b[39m)\n\u001b[1;32m      4\u001b[0m f \u001b[38;5;241m=\u001b[39m bf\u001b[38;5;241m.\u001b[39mdiagnostics\u001b[38;5;241m.\u001b[39mplot_sbc_histograms(posterior_draws, new_sims[\u001b[38;5;124m'\u001b[39m\u001b[38;5;124mparameters\u001b[39m\u001b[38;5;124m'\u001b[39m], num_bins\u001b[38;5;241m=\u001b[39m\u001b[38;5;241m10\u001b[39m,param_names \u001b[38;5;241m=\u001b[39m param_names)\n",
      "\u001b[0;31mNameError\u001b[0m: name 'posterior_draws' is not defined"
     ]
    }
   ],
   "source": [
    "f = bf.diagnostics.plot_sbc_ecdf(posterior_draws, new_sims['parameters'],param_names=param_names)\n",
    "plt.savefig('./figures_EZ/ecdf.png')\n",
    "\n",
    "f = bf.diagnostics.plot_sbc_histograms(posterior_draws, new_sims['parameters'], num_bins=10,param_names = param_names)\n",
    "plt.savefig('./figures_EZ/SBC.png')\n",
    "\n",
    "f = bf.diagnostics.plot_sbc_ecdf(posterior_draws, new_sims['parameters'])\n",
    "plt.savefig('./figures_EZ/ecdf_sbc.png')\n",
    "\n"
   ]
  },
  {
   "cell_type": "code",
   "execution_count": null,
   "id": "0f9da42a-7d3d-4398-900e-adae536030e6",
   "metadata": {},
   "outputs": [],
   "source": []
  }
 ],
 "metadata": {
  "kernelspec": {
   "display_name": "Python 3 (ipykernel)",
   "language": "python",
   "name": "python3"
  },
  "language_info": {
   "codemirror_mode": {
    "name": "ipython",
    "version": 3
   },
   "file_extension": ".py",
   "mimetype": "text/x-python",
   "name": "python",
   "nbconvert_exporter": "python",
   "pygments_lexer": "ipython3",
   "version": "3.10.12"
  }
 },
 "nbformat": 4,
 "nbformat_minor": 5
}
