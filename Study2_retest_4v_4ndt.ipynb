{
 "cells": [
  {
   "cell_type": "code",
   "execution_count": 1,
   "id": "dbed79f9-2e23-4b5d-b51b-a2160d967c6a",
   "metadata": {},
   "outputs": [],
   "source": [
    "#!python setup.py build_ext --inplace"
   ]
  },
  {
   "cell_type": "code",
   "execution_count": 1,
   "id": "a7976484-17a3-441a-bbcf-61c3eaebae31",
   "metadata": {},
   "outputs": [
    {
     "name": "stderr",
     "output_type": "stream",
     "text": [
      "2023-10-14 19:38:15.207119: I tensorflow/core/util/port.cc:110] oneDNN custom operations are on. You may see slightly different numerical results due to floating-point round-off errors from different computation orders. To turn them off, set the environment variable `TF_ENABLE_ONEDNN_OPTS=0`.\n",
      "2023-10-14 19:38:15.208672: I tensorflow/tsl/cuda/cudart_stub.cc:28] Could not find cuda drivers on your machine, GPU will not be used.\n",
      "2023-10-14 19:38:15.242262: I tensorflow/tsl/cuda/cudart_stub.cc:28] Could not find cuda drivers on your machine, GPU will not be used.\n",
      "2023-10-14 19:38:15.242899: I tensorflow/core/platform/cpu_feature_guard.cc:182] This TensorFlow binary is optimized to use available CPU instructions in performance-critical operations.\n",
      "To enable the following instructions: AVX2 AVX512F AVX512_VNNI FMA, in other operations, rebuild TensorFlow with the appropriate compiler flags.\n",
      "2023-10-14 19:38:15.799758: W tensorflow/compiler/tf2tensorrt/utils/py_utils.cc:38] TF-TRT Warning: Could not find TensorRT\n",
      "/home/m.ebrahimi/New_with_condition/bayesflow/trainers.py:26: TqdmExperimentalWarning: Using `tqdm.autonotebook.tqdm` in notebook mode. Use `tqdm.tqdm` instead to force console mode (e.g. in jupyter console)\n",
      "  from tqdm.autonotebook import tqdm\n"
     ]
    }
   ],
   "source": [
    "import numpy as np\n",
    "import bayesflow as bf\n",
    "import numpy as np\n",
    "from numba import njit\n",
    "import matplotlib.pyplot as plt\n",
    "from scipy import stats\n",
    "import seaborn as sns\n",
    "from simulator import Study2_retest_4v as sim_v2"
   ]
  },
  {
   "cell_type": "code",
   "execution_count": 2,
   "id": "0e921416-1da6-445e-8dec-acdac5e0385e",
   "metadata": {},
   "outputs": [],
   "source": [
    "import random \n",
    "random.seed(12)"
   ]
  },
  {
   "cell_type": "code",
   "execution_count": 3,
   "id": "7cace95f-327a-495e-86bc-cba47523ca04",
   "metadata": {},
   "outputs": [],
   "source": [
    "%load_ext autoreload\n",
    "%autoreload 2"
   ]
  },
  {
   "cell_type": "code",
   "execution_count": 4,
   "id": "d96cc1a2-135c-45c1-ae92-51ca92c57eea",
   "metadata": {},
   "outputs": [],
   "source": [
    "n_trials=20\n",
    "v=-3\n",
    "zr=0.5\n",
    "a=30\n",
    "ndt=0.8\n",
    "alpha=1.7\n",
    "dt=0.005\n",
    "max_steps=10000\n",
    "sv=0\n",
    "szr=0\n",
    "sndt=0"
   ]
  },
  {
   "cell_type": "code",
   "execution_count": 5,
   "id": "28294727-f197-40e3-b4e8-a1bddbf12df0",
   "metadata": {},
   "outputs": [],
   "source": [
    "! python setup.py build_ext --inplace\n"
   ]
  },
  {
   "cell_type": "code",
   "execution_count": 6,
   "id": "52613e46-bc5c-46a3-a331-2e7d1da71dc4",
   "metadata": {},
   "outputs": [],
   "source": [
    "def draw_prior():\n",
    "    \"\"\"Generates random draws from the prior.\"\"\"\n",
    "    v1 =np.random.uniform(low=0.0,high=5.0)\n",
    "    v2 =np.random.uniform(low=0.0,high=5.0)\n",
    "\n",
    "    v3 =np.random.uniform(low=-5.0,high=0.0)\n",
    "    v4 =np.random.uniform(low=-5.0,high=0.0)\n",
    "\n",
    "    zr =np.random.uniform(low=0.3,high=0.7)\n",
    "    #zr =np.random.uniform(low=0.5,high=0.5)\n",
    "\n",
    "    a  =np.random.uniform(low=0.6,high=3.0)\n",
    "    ndt1 =np.random.uniform(low=0.1,high=0.7)\n",
    "    ndt2 =np.random.uniform(low=0.1,high=0.7)\n",
    "    ndt3 =np.random.uniform(low=0.1,high=0.7)\n",
    "    ndt4 =np.random.uniform(low=0.1,high=0.7)\n",
    "\n",
    "    sndt =np.random.uniform(low=0.0,high=0.3)\n",
    "    alpha =np.random.uniform(low=1.0,high=2.0)\n",
    "\n",
    "    return np.array([v1,v2,v3,v4,zr, a, ndt1, ndt2, ndt3, ndt4,sndt,alpha])"
   ]
  },
  {
   "cell_type": "code",
   "execution_count": 7,
   "id": "a66ac166-f458-421e-92ca-8d60f9f50e4d",
   "metadata": {},
   "outputs": [],
   "source": [
    "theta=draw_prior()\n",
    "n_trials =( 20,25,30,35)"
   ]
  },
  {
   "cell_type": "code",
   "execution_count": 8,
   "id": "f5fd23a9-ab4b-4d80-9328-88d79e373a7c",
   "metadata": {},
   "outputs": [
    {
     "data": {
      "text/plain": [
       "array([ 4.56846205,  0.92910701, -4.78330987, -1.83882819,  0.4514619 ,\n",
       "        2.33392329,  0.69990084,  0.46657643,  0.50512763,  0.46361255,\n",
       "        0.13434307,  1.34010184])"
      ]
     },
     "execution_count": 8,
     "metadata": {},
     "output_type": "execute_result"
    }
   ],
   "source": [
    "theta"
   ]
  },
  {
   "cell_type": "code",
   "execution_count": 9,
   "id": "99b9607d-b1c2-437b-a360-ed122f7f3622",
   "metadata": {
    "scrolled": true,
    "tags": []
   },
   "outputs": [
    {
     "data": {
      "text/plain": [
       "array([[ 0.83587454,  0.        ],\n",
       "       [ 0.77560209,  0.        ],\n",
       "       [ 1.57081835,  0.        ],\n",
       "       [ 0.78618951,  0.        ],\n",
       "       [ 0.64229027,  0.        ],\n",
       "       [ 0.70262153,  0.        ],\n",
       "       [ 0.92730937,  0.        ],\n",
       "       [ 1.26423088,  0.        ],\n",
       "       [ 1.04869675,  0.        ],\n",
       "       [ 0.67410392,  0.        ],\n",
       "       [ 1.21191712,  0.        ],\n",
       "       [ 0.84501595,  0.        ],\n",
       "       [ 1.20962385,  0.        ],\n",
       "       [ 0.69273897,  0.        ],\n",
       "       [ 0.79364599,  0.        ],\n",
       "       [ 1.13502202,  0.        ],\n",
       "       [ 1.05326858,  0.        ],\n",
       "       [ 0.92116328,  0.        ],\n",
       "       [ 1.11621104,  0.        ],\n",
       "       [ 0.82906263,  0.        ],\n",
       "       [ 1.17515132,  1.        ],\n",
       "       [ 3.06390952,  1.        ],\n",
       "       [-1.23301235,  1.        ],\n",
       "       [ 1.60330892,  1.        ],\n",
       "       [ 5.230545  ,  1.        ],\n",
       "       [-3.06772653,  1.        ],\n",
       "       [ 1.58939863,  1.        ],\n",
       "       [ 1.01659116,  1.        ],\n",
       "       [ 1.65899161,  1.        ],\n",
       "       [-0.93306096,  1.        ],\n",
       "       [-0.60955611,  1.        ],\n",
       "       [ 1.86784501,  1.        ],\n",
       "       [ 2.95101736,  1.        ],\n",
       "       [ 1.49947862,  1.        ],\n",
       "       [ 0.97531703,  1.        ],\n",
       "       [ 0.9129955 ,  1.        ],\n",
       "       [-0.42272529,  1.        ],\n",
       "       [ 1.15178386,  1.        ],\n",
       "       [ 1.07372055,  1.        ],\n",
       "       [ 1.4368099 ,  1.        ],\n",
       "       [ 1.51484899,  1.        ],\n",
       "       [ 1.28789937,  1.        ],\n",
       "       [ 2.58523557,  1.        ],\n",
       "       [ 1.32123528,  1.        ],\n",
       "       [ 0.36998064,  1.        ],\n",
       "       [-0.81145998,  2.        ],\n",
       "       [-0.90439991,  2.        ],\n",
       "       [-0.74882091,  2.        ],\n",
       "       [-0.77542011,  2.        ],\n",
       "       [-0.78903743,  2.        ],\n",
       "       [-0.62664497,  2.        ],\n",
       "       [-0.7417634 ,  2.        ],\n",
       "       [ 0.53253688,  2.        ],\n",
       "       [-0.8946104 ,  2.        ],\n",
       "       [-0.72443495,  2.        ],\n",
       "       [-0.88342581,  2.        ],\n",
       "       [-0.89425528,  2.        ],\n",
       "       [-0.80964995,  2.        ],\n",
       "       [-0.94635807,  2.        ],\n",
       "       [-0.6162516 ,  2.        ],\n",
       "       [-0.89587226,  2.        ],\n",
       "       [-0.68982586,  2.        ],\n",
       "       [-0.93716714,  2.        ],\n",
       "       [-0.9401098 ,  2.        ],\n",
       "       [-0.71418059,  2.        ],\n",
       "       [-0.87168085,  2.        ],\n",
       "       [-1.09149846,  2.        ],\n",
       "       [-0.73700865,  2.        ],\n",
       "       [-0.81670892,  2.        ],\n",
       "       [-0.70955387,  2.        ],\n",
       "       [-0.64766208,  2.        ],\n",
       "       [-0.64655408,  2.        ],\n",
       "       [-0.59236527,  2.        ],\n",
       "       [-0.48306466,  2.        ],\n",
       "       [-0.82132733,  2.        ],\n",
       "       [-0.62012134,  3.        ],\n",
       "       [-0.76349866,  3.        ],\n",
       "       [-1.11421017,  3.        ],\n",
       "       [-2.97164561,  3.        ],\n",
       "       [-1.11627417,  3.        ],\n",
       "       [-1.01023495,  3.        ],\n",
       "       [-0.86141502,  3.        ],\n",
       "       [-1.82903801,  3.        ],\n",
       "       [-0.89149436,  3.        ],\n",
       "       [-1.3402001 ,  3.        ],\n",
       "       [-1.27343874,  3.        ],\n",
       "       [-1.14930343,  3.        ],\n",
       "       [-0.90828353,  3.        ],\n",
       "       [-1.05420879,  3.        ],\n",
       "       [-1.26586912,  3.        ],\n",
       "       [-0.81539685,  3.        ],\n",
       "       [-1.10322987,  3.        ],\n",
       "       [-0.57960936,  3.        ],\n",
       "       [-1.23942281,  3.        ],\n",
       "       [-1.04310039,  3.        ],\n",
       "       [-0.6022202 ,  3.        ],\n",
       "       [ 0.78234814,  3.        ],\n",
       "       [-1.10614471,  3.        ],\n",
       "       [-0.89476107,  3.        ],\n",
       "       [-0.7857522 ,  3.        ],\n",
       "       [-0.89945187,  3.        ],\n",
       "       [-1.17648141,  3.        ],\n",
       "       [-0.95049744,  3.        ],\n",
       "       [-1.05958309,  3.        ],\n",
       "       [-1.0003713 ,  3.        ],\n",
       "       [-0.83607303,  3.        ],\n",
       "       [-1.08807413,  3.        ],\n",
       "       [-1.09942919,  3.        ],\n",
       "       [-0.73243642,  3.        ],\n",
       "       [-2.07506283,  3.        ]])"
      ]
     },
     "execution_count": 9,
     "metadata": {},
     "output_type": "execute_result"
    }
   ],
   "source": [
    "sim_v2.simulate_diffusion_2_conds(theta,n_trials)"
   ]
  },
  {
   "cell_type": "code",
   "execution_count": 10,
   "id": "d9e36c8a-f1b2-4ae6-8d56-3ee33db6922c",
   "metadata": {},
   "outputs": [],
   "source": [
    "def prior_N(n_min=80, n_max=100):\n",
    "    \"\"\"A prior fo]r the number of observation (will be called internally at each backprop step).\"\"\"\n",
    "    return  np.random.randint(n_min, n_max+1, 4)"
   ]
  },
  {
   "cell_type": "code",
   "execution_count": 11,
   "id": "6bd3fe57-e4fb-479d-9572-7dd2940ee905",
   "metadata": {},
   "outputs": [
    {
     "name": "stderr",
     "output_type": "stream",
     "text": [
      "INFO:root:Performing 2 pilot runs with the v2_equiv model...\n",
      "INFO:root:Shape of parameter batch after 2 pilot simulations: (batch_size = 2, 12)\n",
      "INFO:root:Shape of simulation batch after 2 pilot simulations: (batch_size = 2, 359, 2)\n",
      "INFO:root:No optional prior non-batchable context provided.\n",
      "INFO:root:No optional prior batchable context provided.\n",
      "INFO:root:Shape of simulation non-batchable context: (4,)\n",
      "INFO:root:No optional simulation batchable context provided.\n"
     ]
    }
   ],
   "source": [
    "prior = bf.simulation.Prior(prior_fun=draw_prior,param_names=[r'$v1_w_a$',r'$v2_w_non$',r'$v3_nW_a$',r'$v4_nW_non$',r'$zr$', r'$a$', r'$ndt1_w_a$',r'$ndt2_w_non$',r'$ndt3_nW_a$',r'$ndt4_nW_non$',r'$sndt$',r'$alpha$'])\n",
    "var_num_obs = bf.simulation.ContextGenerator(non_batchable_context_fun=prior_N)\n",
    "simulator = bf.simulation.Simulator(simulator_fun=sim_v2.simulate_diffusion_2_conds, context_generator=var_num_obs)\n",
    "generative_model = bf.simulation.GenerativeModel(prior,simulator,name='v2_equiv')"
   ]
  },
  {
   "cell_type": "code",
   "execution_count": 12,
   "id": "9c821ade-c15a-46f4-9e70-0d9cc3199db7",
   "metadata": {},
   "outputs": [],
   "source": [
    "prior_means, prior_stds = prior.estimate_means_and_stds()\n",
    "#Prior Checking\n",
    "#f = prior.plot_prior2d()"
   ]
  },
  {
   "cell_type": "code",
   "execution_count": 13,
   "id": "1d7f9f69-b765-43cf-b430-d3811aaf4f6b",
   "metadata": {},
   "outputs": [],
   "source": [
    "def configurator(sim_dict):\n",
    "    \"\"\"Configures the outputs of a generative model for interaction with \n",
    "    BayesFlow modules.\"\"\"\n",
    "    \n",
    "    out = dict()\n",
    "    # These will be passed through the summary network. In this case,\n",
    "    # it's just the data, but it can be other stuff as well.\n",
    "    data = sim_dict['sim_data'].astype(np.float32)\n",
    "    \n",
    "    # Extract prior draws and z-standardize with previously computed means\n",
    "    params = ((sim_dict['prior_draws'].astype(np.float32)) - prior_means) / prior_stds\n",
    "    #params = (params - prior_means) / prior_stds\n",
    "    \n",
    "    \n",
    "    # Remove a batch if it contains nan, inf or -inf\n",
    "    idx_keep = np.all(np.isfinite(data), axis=(1, 2))\n",
    "    if not np.all(idx_keep):\n",
    "        print('Invalid value encountered...removing from batch')\n",
    "        \n",
    "    out['summary_conditions'] = data[idx_keep]\n",
    "    out['parameters'] = params[idx_keep]\n",
    "\n",
    "    \n",
    "    \n",
    "    \n",
    "    \n",
    "    # These will be concatenated to the outputs of the summary network\n",
    "    # Convert N to log N since neural nets cant deal well with large numbers\n",
    "    N = np.log(sim_dict['sim_non_batchable_context'])\n",
    "    # Repeat N for each sim (since shared across batch), notice the\n",
    "    # extra dimension needed\n",
    "    N_vec = N * np.ones((data.shape[0], 1), dtype=np.float32)\n",
    "    out['direct_conditions'] = N_vec\n",
    "    return out\n"
   ]
  },
  {
   "cell_type": "code",
   "execution_count": 14,
   "id": "cf61a020-3d4b-4300-a8dc-9d18f623309b",
   "metadata": {},
   "outputs": [],
   "source": [
    "sim_dict= generative_model(32)"
   ]
  },
  {
   "cell_type": "code",
   "execution_count": 15,
   "id": "f631c36d-3782-4995-9065-44e6348f36c4",
   "metadata": {},
   "outputs": [
    {
     "data": {
      "text/plain": [
       "array([95, 86, 91, 83])"
      ]
     },
     "execution_count": 15,
     "metadata": {},
     "output_type": "execute_result"
    }
   ],
   "source": [
    "sim_dict['sim_non_batchable_context']"
   ]
  },
  {
   "cell_type": "code",
   "execution_count": 16,
   "id": "fb2f79e2-5da2-45ca-90e4-4bc225f919ff",
   "metadata": {},
   "outputs": [
    {
     "data": {
      "text/plain": [
       "32"
      ]
     },
     "execution_count": 16,
     "metadata": {},
     "output_type": "execute_result"
    }
   ],
   "source": [
    "sim_dict['sim_data'].shape[0]"
   ]
  },
  {
   "cell_type": "code",
   "execution_count": 17,
   "id": "83a6920b-661e-43a2-99b1-a1016f5cd9c8",
   "metadata": {},
   "outputs": [
    {
     "data": {
      "text/plain": [
       "(32, 355, 2)"
      ]
     },
     "execution_count": 17,
     "metadata": {},
     "output_type": "execute_result"
    }
   ],
   "source": [
    "sim_dict['sim_data'].shape"
   ]
  },
  {
   "cell_type": "code",
   "execution_count": 18,
   "id": "f74bb9e9-2ce8-4c57-a140-f39a21bbe8b8",
   "metadata": {},
   "outputs": [
    {
     "data": {
      "text/plain": [
       "array([4.55387689, 4.4543473 , 4.51085951, 4.41884061])"
      ]
     },
     "execution_count": 18,
     "metadata": {},
     "output_type": "execute_result"
    }
   ],
   "source": [
    "N = np.log(sim_dict['sim_non_batchable_context'])\n",
    "N"
   ]
  },
  {
   "cell_type": "code",
   "execution_count": 19,
   "id": "c1953706-1375-4ee5-bd4e-7fbec32c406c",
   "metadata": {},
   "outputs": [
    {
     "name": "stdout",
     "output_type": "stream",
     "text": [
      "CPU times: user 697 ms, sys: 3.53 ms, total: 701 ms\n",
      "Wall time: 699 ms\n"
     ]
    }
   ],
   "source": [
    "%%time\n",
    "# Quick test\n",
    "_ = configurator(generative_model(32))\n"
   ]
  },
  {
   "cell_type": "code",
   "execution_count": 20,
   "id": "83255e01-6e67-400c-bd4f-75019ee4bd11",
   "metadata": {},
   "outputs": [
    {
     "name": "stderr",
     "output_type": "stream",
     "text": [
      "/tmp/ipykernel_231518/1603709639.py:1: DeprecationWarning: InvariantNetwork will be deprecated. at some point. Use ``DeepSet`` instead.\n",
      "  summary_net = bf.networks.InvariantNetwork(summary_dim=32,num_equiv=6)\n"
     ]
    }
   ],
   "source": [
    "summary_net = bf.networks.InvariantNetwork(summary_dim=32,num_equiv=6)\n",
    "inference_net = bf.networks.InvertibleNetwork(num_params=len(prior.param_names),num_coupling_layers=6)\n",
    "amortizer = bf.amortizers.AmortizedPosterior(inference_net, summary_net, name='v2_equive')\n",
    "\n",
    "\n"
   ]
  },
  {
   "cell_type": "code",
   "execution_count": 21,
   "id": "c493158b-f3d8-4f2d-b79e-25c3b2ea1118",
   "metadata": {},
   "outputs": [
    {
     "name": "stderr",
     "output_type": "stream",
     "text": [
      "INFO:root:Loaded loss history from ./checkpoints/Study2_retest/history_400.pkl.\n",
      "INFO:root:Loaded simulation memory from ./checkpoints/Study2_retest/memory.pkl\n",
      "INFO:root:Networks loaded from ./checkpoints/Study2_retest/ckpt-400\n",
      "INFO:root:Performing a consistency check with provided components...\n",
      "INFO:root:Done.\n"
     ]
    }
   ],
   "source": [
    "trainer = bf.trainers.Trainer(\n",
    "    amortizer=amortizer, \n",
    "    generative_model=generative_model, \n",
    "    configurator=configurator,\n",
    "    checkpoint_path='./checkpoints/Study2_retest')"
   ]
  },
  {
   "cell_type": "code",
   "execution_count": 22,
   "id": "8438222c-09c2-435e-8f6f-8477729d31ac",
   "metadata": {},
   "outputs": [
    {
     "name": "stdout",
     "output_type": "stream",
     "text": [
      "Model: \"v2_equive\"\n",
      "_________________________________________________________________\n",
      " Layer (type)                Output Shape              Param #   \n",
      "=================================================================\n",
      " invertible_network (Invert  multiple                  547248    \n",
      " ibleNetwork)                                                    \n",
      "                                                                 \n",
      " invariant_network (Invaria  multiple                  185120    \n",
      " ntNetwork)                                                      \n",
      "                                                                 \n",
      "=================================================================\n",
      "Total params: 732368 (2.79 MB)\n",
      "Trainable params: 732224 (2.79 MB)\n",
      "Non-trainable params: 144 (576.00 Byte)\n",
      "_________________________________________________________________\n"
     ]
    }
   ],
   "source": [
    "amortizer.summary()"
   ]
  },
  {
   "cell_type": "code",
   "execution_count": 23,
   "id": "3e3f1e66-eb25-4fce-9c69-3e673ca2ded9",
   "metadata": {},
   "outputs": [],
   "source": [
    "#f = trainer.diagnose_sbc_histograms()"
   ]
  },
  {
   "cell_type": "code",
   "execution_count": 24,
   "id": "97a2c6a2-7e96-465f-b2c2-90d9e8464d21",
   "metadata": {},
   "outputs": [],
   "source": [
    "#num_val = 300\n",
    "#val_sims = generative_model(num_val)\n",
    "#val_sims"
   ]
  },
  {
   "cell_type": "code",
   "execution_count": 25,
   "id": "18abd585-0c34-4f0f-95c2-ca85c92eff61",
   "metadata": {
    "tags": []
   },
   "outputs": [],
   "source": [
    "#h = trainer.train_online(epochs=200, iterations_per_epoch=1000, batch_size=256, validation_sims=val_sims)"
   ]
  },
  {
   "cell_type": "code",
   "execution_count": 26,
   "id": "c28bf5d0-0eae-44c3-b9f0-7c8eb534b05e",
   "metadata": {},
   "outputs": [],
   "source": [
    "#f = bf.diagnostics.plot_losses(h['train_losses'], h['val_losses'])"
   ]
  },
  {
   "cell_type": "markdown",
   "id": "99eb3b8c-cac0-4041-825e-5cc9e238d0a4",
   "metadata": {},
   "source": [
    "# Validation Phase\n",
    "## Inspecting the Latent Space"
   ]
  },
  {
   "cell_type": "code",
   "execution_count": 27,
   "id": "27ce7214-ed74-45f6-bccb-9db2e5a97bf8",
   "metadata": {},
   "outputs": [],
   "source": [
    "#f = trainer.diagnose_latent2d()"
   ]
  },
  {
   "cell_type": "markdown",
   "id": "f740f047-5ac6-4022-8f30-7753d497d0be",
   "metadata": {},
   "source": [
    "# Simulation-Based Calibration - Rank Histograms"
   ]
  },
  {
   "cell_type": "code",
   "execution_count": 45,
   "id": "c415c629-9e2e-4439-b97f-697174f8abde",
   "metadata": {},
   "outputs": [
    {
     "name": "stderr",
     "output_type": "stream",
     "text": [
      "INFO:root:Performing 2 pilot runs with the v2_equiv model...\n",
      "INFO:root:Shape of parameter batch after 2 pilot simulations: (batch_size = 2, 12)\n",
      "INFO:root:Shape of simulation batch after 2 pilot simulations: (batch_size = 2, 400, 2)\n",
      "INFO:root:No optional prior non-batchable context provided.\n",
      "INFO:root:No optional prior batchable context provided.\n",
      "INFO:root:Shape of simulation non-batchable context: (4,)\n",
      "INFO:root:No optional simulation batchable context provided.\n"
     ]
    }
   ],
   "source": [
    "def prior_N(n_min=100, n_max=100):\n",
    "    \"\"\"A prior fo]r the number of observation (will be called internally at each backprop step).\"\"\"\n",
    "    return  np.random.randint(n_min, n_max+1, 4)\n",
    "prior = bf.simulation.Prior(prior_fun=draw_prior,param_names=[r'$v1_w_a$',r'$v2_w_non$',r'$v3_nW_a$',r'$v4_nW_non$',r'$zr$', r'$a$', r'$ndt1_w_a$',r'$ndt2_w_non$',r'$ndt3_nW_a$',r'$ndt4_nW_non$',r'$sndt$',r'$alpha$'])\n",
    "var_num_obs = bf.simulation.ContextGenerator(non_batchable_context_fun=prior_N)\n",
    "simulator = bf.simulation.Simulator(simulator_fun=sim_v2.simulate_diffusion_2_conds, context_generator=var_num_obs)\n",
    "generative_model = bf.simulation.GenerativeModel(prior,simulator,name='v2_equiv')"
   ]
  },
  {
   "cell_type": "code",
   "execution_count": 46,
   "id": "8a32b5c8-3b35-40b7-b7f8-d9df94860f91",
   "metadata": {},
   "outputs": [],
   "source": [
    "num_test = 1000\n",
    "num_posterior_draws_recovery = 5000\n",
    "new_sims = configurator(generative_model(num_test))"
   ]
  },
  {
   "cell_type": "code",
   "execution_count": 47,
   "id": "cc91483a-54bc-47cd-b5f0-07ca559db360",
   "metadata": {},
   "outputs": [
    {
     "data": {
      "text/plain": [
       "(1000, 400, 2)"
      ]
     },
     "execution_count": 47,
     "metadata": {},
     "output_type": "execute_result"
    }
   ],
   "source": [
    "new_sims['summary_conditions'].shape\n"
   ]
  },
  {
   "cell_type": "code",
   "execution_count": null,
   "id": "b90c5d99-133d-40d7-a28a-d34ce017d82c",
   "metadata": {},
   "outputs": [],
   "source": [
    "posterior_draws = amortizer.sample(new_sims, n_samples=num_posterior_draws_recovery)\n",
    "#param_names=[r'$v1_w_a$',r'$v2_w_non$',r'$v3_nW_a$',r'$v4_nW_non$',r'$zr$', r'$a$', r'$ndt1_w_a$',r'$ndt2_w_non$',r'$ndt3_nW_a$',r'$ndt4_nW_non$',r'$sndt$',r'$alpha$']\n",
    "param_names=[r'$v1$',r'$v2$',r'$v3$',r'$v4$',r'$zr$', r'$a$', r'$ndt1$',r'$ndt2$',r'$ndt3$',r'$ndt4$',r'$sndt$',r'$alpha$']\n",
    "\n",
    "fig = bf.diagnostics.plot_recovery(posterior_draws, new_sims['parameters'],param_names=param_names)"
   ]
  },
  {
   "cell_type": "code",
   "execution_count": null,
   "id": "2fba675a-ee81-4eb5-82c0-22eb70fe134b",
   "metadata": {},
   "outputs": [],
   "source": [
    "posterior_draws.shape"
   ]
  },
  {
   "cell_type": "code",
   "execution_count": null,
   "id": "6defb0a7-dd0a-4863-bf62-db4da34be778",
   "metadata": {},
   "outputs": [],
   "source": [
    "#posterior_draws = amortizer.sample(new_sims, n_samples=100)\n",
    "f = bf.diagnostics.plot_sbc_ecdf(posterior_draws, new_sims['parameters'],param_names=[r'$v1$',r'$v2$',r'$zr$', r'$a$', r'$ndt$',r'$sndt$',r'$alpha$'])"
   ]
  },
  {
   "cell_type": "code",
   "execution_count": null,
   "id": "776ce3b3-6301-484f-88f2-d311faff8279",
   "metadata": {},
   "outputs": [],
   "source": [
    "f = bf.diagnostics.plot_sbc_ecdf(posterior_draws, new_sims['parameters'], stacked=True, \n",
    "                       difference=True, legend_fontsize=12, fig_size=(10, 8))"
   ]
  },
  {
   "cell_type": "code",
   "execution_count": null,
   "id": "aadb7115-d191-43eb-937c-8db9395158b8",
   "metadata": {},
   "outputs": [],
   "source": [
    "posterior_draws = amortizer.sample(new_sims, n_samples=50)\n",
    "f = bf.diagnostics.plot_sbc_histograms(posterior_draws, new_sims['parameters'], num_bins=10,param_names=param_names)"
   ]
  },
  {
   "cell_type": "code",
   "execution_count": null,
   "id": "0a02f094-ac57-4c52-bd57-660fb28c3345",
   "metadata": {},
   "outputs": [],
   "source": [
    "#posterior_draws = amortizer.sample(new_sims, n_samples=num_posterior_draws_recovery)\n",
    "# Michael Nunez's recovery function\n",
    "def recovery(possamps, truevals):  # Parameter recovery plots\n",
    "    \"\"\"Plots true parameters versus 99% and 95% credible intervals of recovered\n",
    "    parameters. Also plotted are the median (circles) and mean (stars) of the posterior\n",
    "    distributions.\n",
    "\n",
    "    Parameters\n",
    "    ----------\n",
    "    possamps : ndarray of posterior chains where the last dimension is the\n",
    "    number of chains, the second to last dimension is the number of samples in\n",
    "    each chain, all other dimensions must match the dimensions of truevals\n",
    "\n",
    "    truevals : ndarray of true parameter values\n",
    "    \"\"\"\n",
    "\n",
    "    # Number of chains\n",
    "    nchains = possamps.shape[-1]\n",
    "\n",
    "    # Number of samples per chain\n",
    "    nsamps = possamps.shape[-2]\n",
    "\n",
    "    # Number of variables to plot\n",
    "    nvars = np.prod(possamps.shape[0:-2])\n",
    "\n",
    "    # Reshape data\n",
    "    alldata = np.reshape(possamps, (nvars, nchains, nsamps))\n",
    "    alldata = np.reshape(alldata, (nvars, nchains * nsamps))\n",
    "    truevals = np.reshape(truevals, (nvars))\n",
    "\n",
    "    # Plot properties\n",
    "    LineWidths = np.array([2, 5])\n",
    "    teal = np.array([0, .7, .7])\n",
    "    blue = np.array([0, 0, 1])\n",
    "    orange = np.array([1, .3, 0])\n",
    "    Colors = [teal, blue]\n",
    "\n",
    "    for v in range(0, nvars):\n",
    "        # Compute percentiles\n",
    "        bounds = stats.scoreatpercentile(alldata[v, :], (.5, 2.5, 97.5, 99.5))\n",
    "        for b in range(0, 2):\n",
    "            # Plot credible intervals\n",
    "            credint = np.ones(100) * truevals[v]\n",
    "            y = np.linspace(bounds[b], bounds[-1 - b], 100)\n",
    "            lines = plt.plot(credint, y)\n",
    "            plt.setp(lines, color=Colors[b], linewidth=LineWidths[b])\n",
    "            if b == 1:\n",
    "                # Mark median\n",
    "                mmedian = plt.plot(truevals[v], np.median(alldata[v, :]), 'o')\n",
    "                plt.setp(mmedian, markersize=10, color=[0., 0., 0.])\n",
    "                # Mark mean\n",
    "                mmean = plt.plot(truevals[v], np.mean(alldata[v, :]), '*')\n",
    "                plt.setp(mmean, markersize=10, color=teal)\n",
    "    # Plot line y = x\n",
    "    tempx = np.linspace(np.min(truevals), np.max(\n",
    "        truevals), num=100)\n",
    "    recoverline = plt.plot(tempx, tempx)\n",
    "    plt.setp(recoverline, linewidth=3, color=orange)\n",
    "\n",
    "\n",
    "# Plot the results\n",
    "fig=plt.figure(figsize=(15,8), tight_layout=True)\n",
    "\n",
    "columns = 3\n",
    "rows = 3\n",
    "param_names=[r'$v1$',r'$v2$',r'$zr$', r'$a$', r'$ndt$',r'$sndt$',r'$alpha$']\n",
    "for i in range(len(param_names)):\n",
    "    \n",
    "    fig.add_subplot(rows, columns, i+1)\n",
    "    recovery(posterior_draws[:, :, i].reshape(num_test, num_posterior_draws_recovery, 1), new_sims['parameters'][:, i].squeeze())\n",
    "    plt.xlabel('Grand truth', fontsize=16)\n",
    "    plt.ylabel('Posterior', fontsize=16)\n",
    "    plt.title(param_names[i], fontsize=16)\n",
    "    if i==0:\n",
    "        plt.legend(['99% CI','95% CI','Median', 'Mean'], fontsize=11, loc = 'upper left')\n",
    "\n",
    "\n"
   ]
  },
  {
   "cell_type": "code",
   "execution_count": null,
   "id": "53195496-4e23-40ff-a7f8-6d8215df747d",
   "metadata": {},
   "outputs": [],
   "source": [
    "from tqdm import tqdm_notebook as tqdm\n",
    "from sklearn.metrics import r2_score\n",
    "param_names=[r'$v1$',r'$v2$',r'$zr$', r'$a$', r'$ndt$',r'$sndt$',r'$alpha$']\n",
    "def compute_performance_metrics(model, n_points_grid, param_names, \n",
    "                                 n_sim=20, n_test=300, n_samples=2000, transform=None):\n",
    "    \"\"\"\n",
    "    Compute metrics for different numbers of datapoints.\n",
    "    ---------\n",
    "\n",
    "    Arguments:\n",
    "    model           : tf.keras.Model -- the invertible chaoin with an optional summary net\n",
    "                                        both models are jointly trained\n",
    "    param_names     : list of strings -- the names of the parameters\n",
    "    simulate_fun    : callable -- the simulate function\n",
    "    n_test          : number of test datasets\n",
    "    n_samples       : number of samples from the approximate posterior\n",
    "    transform       : callable ot None -- a function to transform X and theta, if given\n",
    "    ----------\n",
    "\n",
    "    Returns:\n",
    "    metrics : dict -- a dictionary with the metrics\n",
    "    \"\"\"\n",
    "\n",
    "    metrics = {\n",
    "        'rmse':  {k: np.zeros((n_points_grid.shape[0], n_sim)) for k in param_names},\n",
    "        'nrmse': {k: np.zeros((n_points_grid.shape[0], n_sim)) for k in param_names},\n",
    "        'r2':    {k: np.zeros((n_points_grid.shape[0], n_sim)) for k in param_names},\n",
    "        'std':   {k: np.zeros((n_points_grid.shape[0], n_sim)) for k in param_names}\n",
    "    }\n",
    "    \n",
    "    with tqdm(total=n_points_grid.shape[0]) as p_bar:\n",
    "        for n, n_points in enumerate(n_points_grid):\n",
    "            def prior_N(n_min=n_points, n_max=n_points):\n",
    "                return np.random.randint(n_min, n_max+1)\n",
    "            p_bar.set_postfix_str(\"Simulating with N={}\".format(n_points))\n",
    "            for si in range(n_sim):\n",
    "                \n",
    "                # Simulate data \n",
    "                prior = bf.simulation.Prior(prior_fun=draw_prior,param_names=[r'$v1$',r'$v2$',r'$zr$', r'$a$', r'$ndt$',r'$sndt$',r'$alpha$'])\n",
    "                var_num_obs = bf.simulation.ContextGenerator(non_batchable_context_fun=prior_N)\n",
    "                simulator = bf.simulation.Simulator(simulator_fun=sim_v2.simulate_diffusion_2_conds, context_generator=var_num_obs)\n",
    "                generative_model = bf.simulation.GenerativeModel(prior,simulator,name='v2_equiv')\n",
    "                \n",
    "                x = configurator(generative_model(n_test))\n",
    "                theta_test_s , X_test_s = x['parameters'] , x['summary_conditions']\n",
    "                \n",
    "               # X_test_s, theta_test_s = simulate_fun(n_test, n_points=n_points)\n",
    "               # if transform is not None:\n",
    "               #     X_test_s, theta_test_s = transform(X_test_s, theta_test_s)\n",
    "               # theta_test_s = theta_test_s.numpy()\n",
    "\n",
    "                # Sample from posterior and compute mean and variance\n",
    "                posterior_draws = model.sample(x, n_samples=n_samples)\n",
    "                theta_test_hat = posterior_draws.mean(1)\n",
    "                theta_test_std = posterior_draws.std(axis=1, ddof=1)\n",
    "\n",
    "                \n",
    "                #theta_samples = model.sample(X_test_s, n_samples=n_samples, to_numpy=True)\n",
    "                #theta_test_hat = theta_samples.mean(0)\n",
    "                #theta_test_std = theta_samples.std(axis=0, ddof=1)\n",
    "\n",
    "                # --- Plot true vs estimated posterior means on a single row --- #\n",
    "                for k, name in enumerate(param_names):\n",
    "\n",
    "                    # Compute NRMSE\n",
    "                    rmse = np.sqrt(np.mean( (theta_test_hat[:, k] - theta_test_s[:, k])**2 ))\n",
    "                    nrmse = rmse / (theta_test_s[:, k].max() - theta_test_s[:, k].min())\n",
    "\n",
    "                    # Compute R2\n",
    "                    r2 = r2_score(theta_test_s[:, k], theta_test_hat[:, k])\n",
    "\n",
    "                    # Extract mean posterior std\n",
    "                    std = np.mean(theta_test_std[:, k])\n",
    "\n",
    "                    # Add to dict\n",
    "                    metrics['rmse'][name][n, si] = rmse\n",
    "                    metrics['nrmse'][name][n, si] = nrmse\n",
    "                    metrics['r2'][name][n, si] = r2\n",
    "                    metrics['std'][name][n, si]  = std\n",
    "            p_bar.update(1)\n",
    "        return metrics\n"
   ]
  },
  {
   "cell_type": "code",
   "execution_count": null,
   "id": "cd951666-b00f-429b-bd57-0ac921375c41",
   "metadata": {
    "tags": []
   },
   "outputs": [],
   "source": [
    "n_points_grid=np.arange(100, 1001, 10)\n",
    "\n",
    "metrics = compute_performance_metrics(amortizer, \n",
    "                    n_points_grid, \n",
    "                    param_names=param_names, \n",
    "                    #simulate_fun=data_generator,\n",
    "                    n_sim=10, \n",
    "                    n_test=300, \n",
    "                    n_samples=2000)\n",
    "                    #transform=transform)"
   ]
  },
  {
   "cell_type": "code",
   "execution_count": null,
   "id": "aeb82504-7c58-4290-a8e0-9ee673630152",
   "metadata": {
    "tags": []
   },
   "outputs": [],
   "source": [
    "def plot_performance_metrics(metrics, n_points_grid, param_names, figsize=(12, 4), show=True, \n",
    "                             xlabel=r'$n$', filename=None, legend_loc=None, std_ci=2, font_size=12):\n",
    "    \n",
    "    \"\"\"Plots specified metrics over ns.\"\"\"\n",
    "\n",
    "    # Plot settings\n",
    "    plt.rcParams['font.size'] = font_size\n",
    "\n",
    "    # Initialize figure\n",
    "    f, axarr = plt.subplots(1, 2, figsize=figsize)\n",
    "\n",
    "    for i, metric in enumerate(['nrmse', 'r2']):\n",
    "        for p in param_names:\n",
    "\n",
    "            metric_mean = metrics[metric][p].mean(axis=1)\n",
    "            metric_std = metrics[metric][p].std(axis=1, ddof=1)\n",
    "\n",
    "            axarr[i].plot(n_points_grid, metric_mean, label=p, lw=2)\n",
    "            axarr[i].fill_between(n_points_grid, \n",
    "                            metric_mean-std_ci*metric_std, \n",
    "                            metric_mean+std_ci*metric_std, \n",
    "                            interpolate=True, alpha=0.2)\n",
    "\n",
    "        if metric == 'nrmse':\n",
    "            axarr[i].set_ylabel('NRMSE')\n",
    "        elif metric == 'r2':\n",
    "            axarr[i].set_ylabel(r'$R^{2}$')\n",
    "        axarr[i].set_xlabel(xlabel)\n",
    "\n",
    "        axarr[i].spines['right'].set_visible(False)\n",
    "        axarr[i].spines['top'].set_visible(False)\n",
    "        if legend_loc is not None:\n",
    "            axarr[i].legend(loc=legend_loc[i], fontsize=10)\n",
    "        else:\n",
    "            axarr[i].legend(fontsize=12)\n",
    "\n",
    "    f.tight_layout()\n",
    "    \n",
    "    if show:\n",
    "        plt.show()\n",
    "    \n",
    "    if filename is not None:\n",
    "        f.savefig(\"figures/{}_metrics.png\".format(filename), dpi=600, bbox_inches='tight')\n",
    "\n"
   ]
  },
  {
   "cell_type": "code",
   "execution_count": null,
   "id": "b8350ecf-9491-4cb4-a785-bc2650fde447",
   "metadata": {
    "tags": []
   },
   "outputs": [],
   "source": [
    "plot_performance_metrics(metrics, \n",
    "                         n_points_grid, \n",
    "                         param_names, \n",
    "                         legend_loc=['upper right', 'lower right'],\n",
    "                         xlabel=r'Number of trials ($N$)', \n",
    "                         figsize=(12, 6),\n",
    "                         filename='Levy_Metrics')"
   ]
  },
  {
   "cell_type": "code",
   "execution_count": null,
   "id": "4ad0c482-33d8-4acc-9229-15137495dc99",
   "metadata": {},
   "outputs": [],
   "source": []
  },
  {
   "cell_type": "code",
   "execution_count": null,
   "id": "9a58fbee-efcf-4326-97cc-d95128b7c0de",
   "metadata": {},
   "outputs": [],
   "source": []
  },
  {
   "cell_type": "code",
   "execution_count": null,
   "id": "25fd8abf-fc85-46c2-ae4c-0edecdf39312",
   "metadata": {},
   "outputs": [],
   "source": []
  },
  {
   "cell_type": "code",
   "execution_count": null,
   "id": "94774f68-1bc4-40c2-b86e-cf0966a0ae7d",
   "metadata": {},
   "outputs": [],
   "source": [
    "x = configurator(generative_model(32))\n",
    "theta_test_s , X_test_s = x['parameters'] , x['summary_conditions']"
   ]
  },
  {
   "cell_type": "code",
   "execution_count": null,
   "id": "02b92229-6737-4bbe-9f7f-f7b40e341065",
   "metadata": {},
   "outputs": [],
   "source": [
    "X_test_s.shape"
   ]
  },
  {
   "cell_type": "code",
   "execution_count": null,
   "id": "438d0a78-ff8a-4ef4-8e2c-b1282d821fe3",
   "metadata": {},
   "outputs": [],
   "source": [
    "n_samples  = 1000\n",
    "posterior_draws = amortizer.sample(x, n_samples=num_posterior_draws_recovery)\n",
    "#theta_samples = amortizer.sample(X_test_s, n_samples=n_samples)"
   ]
  },
  {
   "cell_type": "code",
   "execution_count": null,
   "id": "1dc5e872-efda-4606-bbe1-a37e44708293",
   "metadata": {},
   "outputs": [],
   "source": [
    "posterior_draws.shape"
   ]
  },
  {
   "cell_type": "code",
   "execution_count": null,
   "id": "9bd1398d-bbcb-41f1-9760-4bc1fc9d1581",
   "metadata": {},
   "outputs": [],
   "source": [
    "theta_test_hat = posterior_draws.mean(1)\n",
    "theta_test_std = posterior_draws.std(axis=1, ddof=1)\n"
   ]
  },
  {
   "cell_type": "code",
   "execution_count": null,
   "id": "a74b1601-b252-4359-8061-d9b23e701585",
   "metadata": {},
   "outputs": [],
   "source": [
    "theta_test_hat.shape"
   ]
  },
  {
   "cell_type": "code",
   "execution_count": null,
   "id": "f473c7a7-9bad-4abc-a63e-4f3a9384c9fa",
   "metadata": {},
   "outputs": [],
   "source": [
    "theta_test_hat"
   ]
  },
  {
   "cell_type": "code",
   "execution_count": null,
   "id": "f412f9b5-d194-422e-b45e-7734da09c746",
   "metadata": {},
   "outputs": [],
   "source": [
    "theta_test_std.shape"
   ]
  },
  {
   "cell_type": "code",
   "execution_count": null,
   "id": "a24948af-e1f7-4cac-83c9-4b42f5cda8a2",
   "metadata": {},
   "outputs": [],
   "source": [
    "theta_test_std"
   ]
  },
  {
   "cell_type": "code",
   "execution_count": null,
   "id": "b6954a7a-b78c-48e2-bd41-d96d6cd1a423",
   "metadata": {},
   "outputs": [],
   "source": [
    "r2 = r2_score(theta_test_s[:,1], theta_test_hat[:,1])"
   ]
  },
  {
   "cell_type": "code",
   "execution_count": null,
   "id": "b8ae68f6-448a-4108-aeb8-ec07fecde7eb",
   "metadata": {},
   "outputs": [],
   "source": [
    "r2 = r2_score(theta_test_s[:,2], theta_test_hat[:,2])\n",
    "r2"
   ]
  },
  {
   "cell_type": "code",
   "execution_count": null,
   "id": "5d569916-fe18-4ae3-885c-f682217cc723",
   "metadata": {},
   "outputs": [],
   "source": []
  },
  {
   "cell_type": "code",
   "execution_count": null,
   "id": "af13bba0-d70b-4d29-8bd5-cfc7962d8841",
   "metadata": {},
   "outputs": [],
   "source": []
  },
  {
   "cell_type": "code",
   "execution_count": null,
   "id": "b9c99963-cfd5-4fc7-b5fd-eb8b21603cdf",
   "metadata": {},
   "outputs": [],
   "source": [
    "r2"
   ]
  },
  {
   "cell_type": "code",
   "execution_count": null,
   "id": "258c83a7-f987-4e0b-852c-12e3ebf19697",
   "metadata": {},
   "outputs": [],
   "source": [
    "r2 = r2_score(theta_test_s[:, k], theta_test_hat[:, k])"
   ]
  },
  {
   "cell_type": "code",
   "execution_count": null,
   "id": "99fddecb-ef29-4c5d-a6d4-984fe32b160c",
   "metadata": {},
   "outputs": [],
   "source": [
    "theta_test_s.shape"
   ]
  },
  {
   "cell_type": "code",
   "execution_count": null,
   "id": "b8588f9b-784f-4427-b619-f8d7fa6dab1c",
   "metadata": {},
   "outputs": [],
   "source": []
  },
  {
   "cell_type": "code",
   "execution_count": null,
   "id": "910f4585-9e71-4a04-99f5-4933f20d565a",
   "metadata": {},
   "outputs": [],
   "source": []
  },
  {
   "cell_type": "code",
   "execution_count": null,
   "id": "4b3e89f1-0cb1-4439-b1ac-12d114fa32c6",
   "metadata": {},
   "outputs": [],
   "source": []
  },
  {
   "cell_type": "code",
   "execution_count": null,
   "id": "14fcd17f-70b5-4cbc-9c85-2b44d7c3bb0b",
   "metadata": {},
   "outputs": [],
   "source": []
  },
  {
   "cell_type": "code",
   "execution_count": null,
   "id": "cba462c0-2566-4ad5-bf3b-794306ddc709",
   "metadata": {},
   "outputs": [],
   "source": []
  },
  {
   "cell_type": "code",
   "execution_count": null,
   "id": "694cc8e8-6ccc-416d-86ae-f89b66c1748f",
   "metadata": {},
   "outputs": [],
   "source": [
    "n_points_grid=np.arange(100, 121, 10)\n",
    "for n, n_points in enumerate(n_points_grid):\n",
    "    print (n_points)"
   ]
  },
  {
   "cell_type": "code",
   "execution_count": null,
   "id": "83b09fc8-1953-498c-9e97-ba1e9c369935",
   "metadata": {},
   "outputs": [],
   "source": [
    "n_points_grid=np.arange(100, 121, 10)\n",
    "metrics = compute_performance_metrics(amortizer, \n",
    "                    n_points_grid, \n",
    "                    param_names=param_names, \n",
    "                    simulate_fun=data_generator,\n",
    "                    n_sim=10, \n",
    "                    n_test=300, \n",
    "                    n_samples=2000\n",
    "                    )"
   ]
  },
  {
   "cell_type": "code",
   "execution_count": null,
   "id": "4cd7092e-2612-4158-812d-2805db06b5a8",
   "metadata": {},
   "outputs": [],
   "source": []
  },
  {
   "cell_type": "code",
   "execution_count": null,
   "id": "abf8d50d-4a2f-4010-a2e0-1d90f30cb678",
   "metadata": {},
   "outputs": [],
   "source": []
  },
  {
   "cell_type": "code",
   "execution_count": null,
   "id": "dd948ebd-2f14-45b8-93a4-b8d3f41202e8",
   "metadata": {},
   "outputs": [],
   "source": []
  },
  {
   "cell_type": "code",
   "execution_count": null,
   "id": "4702f90b-e5dd-4c53-82b4-e04625fda0fd",
   "metadata": {},
   "outputs": [],
   "source": []
  },
  {
   "cell_type": "code",
   "execution_count": null,
   "id": "5b2074e8-c851-4228-a186-9f329367400d",
   "metadata": {},
   "outputs": [],
   "source": []
  },
  {
   "cell_type": "code",
   "execution_count": null,
   "id": "86ff89ce-0443-408c-9f97-1f253701031d",
   "metadata": {},
   "outputs": [],
   "source": [
    "f = bf.diagnostics.plot_posterior_2d(single_pp,param_names=prior.param_names)"
   ]
  },
  {
   "cell_type": "code",
   "execution_count": null,
   "id": "ffae7e75-7ce2-4da0-8a86-7cf5f1c0426b",
   "metadata": {},
   "outputs": [],
   "source": [
    "f = bf.diagnostics.plot_posterior_2d(single_pp, prior=prior)"
   ]
  },
  {
   "cell_type": "code",
   "execution_count": null,
   "id": "66956241-9416-4bcc-83d5-a392af90d33b",
   "metadata": {},
   "outputs": [],
   "source": [
    "import matplotlib.pyplot as plt\n",
    "\n",
    "def plot_ppc(config, post_samples, logscale=True, color='Blue', \n",
    "                            dummy=True, figsize=(12, 6), font_size=18):\n",
    "    \"\"\"\n",
    "    Helper function to perform some plotting of the posterior predictive.\n",
    "    \"\"\"\n",
    "    # Plot settings\n",
    "    plt.rcParams['font.size'] = font_size\n",
    "    \n",
    "    # Remove parameters < 0\n",
    "    samples = post_samples[np.sum(post_samples < 0, axis=1) == 0]\n",
    "    \n",
    "    f, ax = plt.subplots(1, 1, figsize=figsize)\n",
    "    \n",
    "    # Re-simulations\n",
    "    sims = []\n",
    "    for i in range(samples.shape[0]):  \n",
    "        # Note - simulator returns 2D arrays of shape (T, 1), so we remove trailing dim \n",
    "        sim_cases = stationary_SIR(samples[i], config['N'], config['T'])[:, 0]\n",
    "        sims.append(sim_cases)\n",
    "    sims = np.array(sims)\n",
    "    \n",
    "    # Compute quantiles for each t = 1,...,T\n",
    "    qs_50 = np.quantile(sims, q=[0.25, 0.75], axis=0)\n",
    "    qs_90 = np.quantile(sims, q=[0.05, 0.95], axis=0)\n",
    "    qs_95 = np.quantile(sims, q=[0.025, 0.975], axis=0)\n",
    "    \n",
    "    # Plot median predictions and observed data\n",
    "    ax.plot(np.median(sims, axis=0), label='Median predicted cases', color=color)\n",
    "    ax.plot(config['obs_data'], marker='o', label='Reported cases', color='black', linestyle='dashed', alpha=0.8)\n",
    "    \n",
    "    # Add compatibility intervals (also called credible intervals)\n",
    "    ax.fill_between(range(config['T']), qs_50[0], qs_50[1], color=color, alpha=0.3, label='50% CI')\n",
    "    ax.fill_between(range(config['T']), qs_90[0], qs_90[1], color=color, alpha=0.2, label='90% CI')\n",
    "    ax.fill_between(range(config['T']), qs_95[0], qs_95[1], color=color, alpha=0.1, label='95% CI')\n",
    "    \n",
    "    # Grid and schmuck\n",
    "    ax.grid(color='grey', linestyle='-', linewidth=0.25, alpha=0.5)\n",
    "    ax.spines['right'].set_visible(False)\n",
    "    ax.spines['top'].set_visible(False)\n",
    "    ax.set_xlabel('Days since pandemic onset')\n",
    "    ax.set_ylabel('Number of cases')\n",
    "    ax.minorticks_off()\n",
    "    if logscale:\n",
    "        ax.set_yscale('log')\n",
    "    ax.legend(fontsize=font_size)\n",
    "    return f"
   ]
  },
  {
   "cell_type": "code",
   "execution_count": null,
   "id": "13ccaf66-fae7-4c0b-8fad-101a1bd01dd8",
   "metadata": {},
   "outputs": [],
   "source": [
    "f = plot_ppc(config, post_samples)\n"
   ]
  },
  {
   "cell_type": "code",
   "execution_count": null,
   "id": "737054f5-2d59-4e4c-a67f-20c9a3a8a300",
   "metadata": {},
   "outputs": [],
   "source": []
  },
  {
   "cell_type": "code",
   "execution_count": null,
   "id": "29b2d477-eeab-4276-a0b8-6febf045a158",
   "metadata": {},
   "outputs": [],
   "source": []
  }
 ],
 "metadata": {
  "kernelspec": {
   "display_name": "Python 3 (ipykernel)",
   "language": "python",
   "name": "python3"
  },
  "language_info": {
   "codemirror_mode": {
    "name": "ipython",
    "version": 3
   },
   "file_extension": ".py",
   "mimetype": "text/x-python",
   "name": "python",
   "nbconvert_exporter": "python",
   "pygments_lexer": "ipython3",
   "version": "3.10.12"
  }
 },
 "nbformat": 4,
 "nbformat_minor": 5
}
