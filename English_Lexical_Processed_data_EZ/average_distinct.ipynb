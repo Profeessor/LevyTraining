{
 "cells": [
  {
   "cell_type": "code",
   "execution_count": 4,
   "id": "8f5f9130-8d2a-4ede-a7f3-e4236b5e9ee0",
   "metadata": {},
   "outputs": [],
   "source": [
    "import pandas as pd \n"
   ]
  },
  {
   "cell_type": "code",
   "execution_count": 5,
   "id": "17536773-f687-4633-9047-52e360611583",
   "metadata": {},
   "outputs": [],
   "source": [
    "LDT_s1 = pd.read_csv('EZ_ELP_s1_correlation_matrix_renamed.csv')\n",
    "LDT_s2 = pd.read_csv('EZ_ELP_s2_correlation_matrix_renamed.csv')\n"
   ]
  },
  {
   "cell_type": "code",
   "execution_count": 6,
   "id": "d588df13-8b22-4b53-8d9d-ef7f68b7f521",
   "metadata": {},
   "outputs": [],
   "source": [
    "sum=LDT_s1+LDT_s2\n",
    "sum['Unnamed: 0'] = LDT_s1['Unnamed: 0']\n",
    "ave=sum.loc[:,sum.columns != 'Unnamed: 0']/2\n",
    "idx = 0 \n",
    "ave.insert(loc=idx, column='par', value=LDT_s1['Unnamed: 0'])\n"
   ]
  },
  {
   "cell_type": "code",
   "execution_count": 7,
   "id": "8d51c4d4-f101-45b6-82bc-724cb054a62a",
   "metadata": {},
   "outputs": [
    {
     "data": {
      "text/html": [
       "<div>\n",
       "<style scoped>\n",
       "    .dataframe tbody tr th:only-of-type {\n",
       "        vertical-align: middle;\n",
       "    }\n",
       "\n",
       "    .dataframe tbody tr th {\n",
       "        vertical-align: top;\n",
       "    }\n",
       "\n",
       "    .dataframe thead th {\n",
       "        text-align: right;\n",
       "    }\n",
       "</style>\n",
       "<table border=\"1\" class=\"dataframe\">\n",
       "  <thead>\n",
       "    <tr style=\"text-align: right;\">\n",
       "      <th></th>\n",
       "      <th>par</th>\n",
       "      <th>v1</th>\n",
       "      <th>v2</th>\n",
       "      <th>a</th>\n",
       "      <th>ndt</th>\n",
       "      <th>alpha</th>\n",
       "      <th>mean_log_rt</th>\n",
       "      <th>alpha_arc_box</th>\n",
       "      <th>acc_arc_box</th>\n",
       "    </tr>\n",
       "  </thead>\n",
       "  <tbody>\n",
       "    <tr>\n",
       "      <th>0</th>\n",
       "      <td>v1</td>\n",
       "      <td>NaN</td>\n",
       "      <td>-0.890818</td>\n",
       "      <td>-0.043308</td>\n",
       "      <td>0.030770</td>\n",
       "      <td>0.109436</td>\n",
       "      <td>-0.435341</td>\n",
       "      <td>0.105299</td>\n",
       "      <td>0.823455</td>\n",
       "    </tr>\n",
       "    <tr>\n",
       "      <th>1</th>\n",
       "      <td>v2</td>\n",
       "      <td>-0.890818</td>\n",
       "      <td>NaN</td>\n",
       "      <td>0.009217</td>\n",
       "      <td>-0.028608</td>\n",
       "      <td>-0.060363</td>\n",
       "      <td>0.427443</td>\n",
       "      <td>-0.041652</td>\n",
       "      <td>-0.790870</td>\n",
       "    </tr>\n",
       "    <tr>\n",
       "      <th>2</th>\n",
       "      <td>a</td>\n",
       "      <td>-0.043308</td>\n",
       "      <td>0.009217</td>\n",
       "      <td>NaN</td>\n",
       "      <td>-0.087624</td>\n",
       "      <td>0.344352</td>\n",
       "      <td>0.764788</td>\n",
       "      <td>0.346380</td>\n",
       "      <td>0.149058</td>\n",
       "    </tr>\n",
       "    <tr>\n",
       "      <th>3</th>\n",
       "      <td>ndt</td>\n",
       "      <td>0.030770</td>\n",
       "      <td>-0.028608</td>\n",
       "      <td>-0.087624</td>\n",
       "      <td>NaN</td>\n",
       "      <td>0.531326</td>\n",
       "      <td>0.453008</td>\n",
       "      <td>0.517245</td>\n",
       "      <td>0.404785</td>\n",
       "    </tr>\n",
       "    <tr>\n",
       "      <th>4</th>\n",
       "      <td>alpha</td>\n",
       "      <td>0.109436</td>\n",
       "      <td>-0.060363</td>\n",
       "      <td>0.344352</td>\n",
       "      <td>0.531326</td>\n",
       "      <td>NaN</td>\n",
       "      <td>0.453143</td>\n",
       "      <td>0.996668</td>\n",
       "      <td>0.525400</td>\n",
       "    </tr>\n",
       "    <tr>\n",
       "      <th>5</th>\n",
       "      <td>mean_log_rt</td>\n",
       "      <td>-0.435341</td>\n",
       "      <td>0.427443</td>\n",
       "      <td>0.764788</td>\n",
       "      <td>0.453008</td>\n",
       "      <td>0.453143</td>\n",
       "      <td>NaN</td>\n",
       "      <td>0.449876</td>\n",
       "      <td>-0.033882</td>\n",
       "    </tr>\n",
       "    <tr>\n",
       "      <th>6</th>\n",
       "      <td>alpha_arc_box</td>\n",
       "      <td>0.105299</td>\n",
       "      <td>-0.041652</td>\n",
       "      <td>0.346380</td>\n",
       "      <td>0.517245</td>\n",
       "      <td>0.996668</td>\n",
       "      <td>0.449876</td>\n",
       "      <td>NaN</td>\n",
       "      <td>0.521864</td>\n",
       "    </tr>\n",
       "    <tr>\n",
       "      <th>7</th>\n",
       "      <td>acc_arc_box</td>\n",
       "      <td>0.823455</td>\n",
       "      <td>-0.790870</td>\n",
       "      <td>0.149058</td>\n",
       "      <td>0.404785</td>\n",
       "      <td>0.525400</td>\n",
       "      <td>-0.033882</td>\n",
       "      <td>0.521864</td>\n",
       "      <td>NaN</td>\n",
       "    </tr>\n",
       "  </tbody>\n",
       "</table>\n",
       "</div>"
      ],
      "text/plain": [
       "             par        v1        v2         a       ndt     alpha  \\\n",
       "0             v1       NaN -0.890818 -0.043308  0.030770  0.109436   \n",
       "1             v2 -0.890818       NaN  0.009217 -0.028608 -0.060363   \n",
       "2              a -0.043308  0.009217       NaN -0.087624  0.344352   \n",
       "3            ndt  0.030770 -0.028608 -0.087624       NaN  0.531326   \n",
       "4          alpha  0.109436 -0.060363  0.344352  0.531326       NaN   \n",
       "5    mean_log_rt -0.435341  0.427443  0.764788  0.453008  0.453143   \n",
       "6  alpha_arc_box  0.105299 -0.041652  0.346380  0.517245  0.996668   \n",
       "7    acc_arc_box  0.823455 -0.790870  0.149058  0.404785  0.525400   \n",
       "\n",
       "   mean_log_rt  alpha_arc_box  acc_arc_box  \n",
       "0    -0.435341       0.105299     0.823455  \n",
       "1     0.427443      -0.041652    -0.790870  \n",
       "2     0.764788       0.346380     0.149058  \n",
       "3     0.453008       0.517245     0.404785  \n",
       "4     0.453143       0.996668     0.525400  \n",
       "5          NaN       0.449876    -0.033882  \n",
       "6     0.449876            NaN     0.521864  \n",
       "7    -0.033882       0.521864          NaN  "
      ]
     },
     "execution_count": 7,
     "metadata": {},
     "output_type": "execute_result"
    }
   ],
   "source": [
    "ave"
   ]
  },
  {
   "cell_type": "code",
   "execution_count": 8,
   "id": "809fbca2-8880-4e57-812d-ae176c138ba9",
   "metadata": {},
   "outputs": [],
   "source": [
    "ave = ave.fillna(1)"
   ]
  },
  {
   "cell_type": "code",
   "execution_count": 9,
   "id": "6aecd2ac-99a1-45c2-abc0-ded7930f310b",
   "metadata": {},
   "outputs": [],
   "source": [
    "ave= ave.round(3)"
   ]
  },
  {
   "cell_type": "code",
   "execution_count": 10,
   "id": "a37ee054-ad07-45d4-b200-62de07cff0ce",
   "metadata": {},
   "outputs": [],
   "source": [
    "ave.to_csv('EZ_ELP_average_distinct_correlation_across_2_data.csv')"
   ]
  },
  {
   "cell_type": "code",
   "execution_count": null,
   "id": "1ff20911-a26c-40fe-86fb-a1a853614bc7",
   "metadata": {},
   "outputs": [],
   "source": []
  }
 ],
 "metadata": {
  "kernelspec": {
   "display_name": "Python 3 (ipykernel)",
   "language": "python",
   "name": "python3"
  },
  "language_info": {
   "codemirror_mode": {
    "name": "ipython",
    "version": 3
   },
   "file_extension": ".py",
   "mimetype": "text/x-python",
   "name": "python",
   "nbconvert_exporter": "python",
   "pygments_lexer": "ipython3",
   "version": "3.10.12"
  }
 },
 "nbformat": 4,
 "nbformat_minor": 5
}
