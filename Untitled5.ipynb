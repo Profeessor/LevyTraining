{
 "cells": [
  {
   "cell_type": "code",
   "execution_count": null,
   "id": "be54909b-a988-4093-abe6-3d472e3bae4d",
   "metadata": {},
   "outputs": [],
   "source": [
    "! install.packages(\n",
    "  \"http://cran.r-project.org/src/contrib/Archive/boot/boot_1.3-7.tar.gz\", \n",
    "  repos = NULL, type = \"source\"\n",
    ")"
   ]
  },
  {
   "cell_type": "code",
   "execution_count": null,
   "id": "7cc2dff9-a8c7-41c5-8c1f-73269146d6b7",
   "metadata": {},
   "outputs": [],
   "source": [
    "library('lavaan')"
   ]
  },
  {
   "cell_type": "code",
   "execution_count": 3,
   "id": "ed99b5f1-c7c6-4283-80fa-b29c8c3df184",
   "metadata": {},
   "outputs": [
    {
     "name": "stderr",
     "output_type": "stream",
     "text": [
      "Warning message in install.packages(\"lavaan\"):\n",
      "“'lib = \"/opt/anaconda3/envs/r_env/lib/R/library\"' is not writable”\n"
     ]
    },
    {
     "ename": "ERROR",
     "evalue": "Error in install.packages(\"lavaan\"): unable to install packages\n",
     "output_type": "error",
     "traceback": [
      "Error in install.packages(\"lavaan\"): unable to install packages\nTraceback:\n",
      "1. install.packages(\"lavaan\")",
      "2. stop(\"unable to install packages\")"
     ]
    }
   ],
   "source": [
    "install.packages(\"lavaan\")"
   ]
  },
  {
   "cell_type": "code",
   "execution_count": null,
   "id": "85f3890b-f3f2-4ab0-8053-a2ec065d1dc5",
   "metadata": {},
   "outputs": [],
   "source": [
    "R.Version()"
   ]
  },
  {
   "cell_type": "code",
   "execution_count": null,
   "id": "4be83478-c1c5-44f2-8130-bb380843459b",
   "metadata": {},
   "outputs": [],
   "source": []
  }
 ],
 "metadata": {
  "kernelspec": {
   "display_name": "R",
   "language": "R",
   "name": "ir"
  },
  "language_info": {
   "codemirror_mode": "r",
   "file_extension": ".r",
   "mimetype": "text/x-r-source",
   "name": "R",
   "pygments_lexer": "r",
   "version": "4.1.1"
  }
 },
 "nbformat": 4,
 "nbformat_minor": 5
}
